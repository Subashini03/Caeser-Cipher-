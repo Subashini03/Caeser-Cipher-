{
  "nbformat": 4,
  "nbformat_minor": 0,
  "metadata": {
    "colab": {
      "provenance": []
    },
    "kernelspec": {
      "name": "python3",
      "display_name": "Python 3"
    },
    "language_info": {
      "name": "python"
    }
  },
  "cells": [
    {
      "cell_type": "markdown",
      "source": [
        "### **Text Encryption Using Caesar Cipher Algorithm**\n",
        "\n",
        "---\n",
        "\n"
      ],
      "metadata": {
        "id": "w1ToxbQIIpnu"
      }
    },
    {
      "cell_type": "code",
      "source": [
        "def caesar_cipher_encrypt(text, shift):\n",
        "    encrypted_text = \"\"\n",
        "\n",
        "    for char in text:\n",
        "        if char.isalpha():  # Check if the character is a letter\n",
        "            # Determine whether the letter is uppercase or lowercase\n",
        "            is_upper = char.isupper()\n",
        "\n",
        "            # Shift the letter and wrap around the alphabet\n",
        "            char_code = ord(char) + shift\n",
        "            if is_upper:\n",
        "                if char_code > ord('Z'):\n",
        "                    char_code -= 26\n",
        "\n",
        "            else:\n",
        "                if char_code > ord('z'):\n",
        "                    char_code -= 26\n",
        "\n",
        "            encrypted_char = chr(char_code)\n",
        "            encrypted_text += encrypted_char\n",
        "        else:\n",
        "            # If the character is not a letter, keep it unchanged\n",
        "            encrypted_text += char\n",
        "\n",
        "    return encrypted_text\n",
        "\n",
        "# Get user input\n",
        "plaintext = input(\"Enter the text to encrypt: \")\n",
        "shift_amount = int(input(\"Enter the shift amount (integer): \"))\n",
        "\n",
        "# Encrypt the input using the Caesar cipher\n",
        "encrypted_text = caesar_cipher_encrypt(plaintext, shift_amount)\n",
        "\n",
        "# Display the encrypted text\n",
        "print(\"Encrypted Text:\", encrypted_text)\n"
      ],
      "metadata": {
        "colab": {
          "base_uri": "https://localhost:8080/"
        },
        "id": "dkbubV78Gqjf",
        "outputId": "ed6b7228-8bc3-4d7e-c210-0b23685da021"
      },
      "execution_count": 15,
      "outputs": [
        {
          "output_type": "stream",
          "name": "stdout",
          "text": [
            "Enter the text to encrypt: no\n",
            "Enter the shift amount (integer): 12\n",
            "Encrypted Text: za\n"
          ]
        }
      ]
    }
  ]
}